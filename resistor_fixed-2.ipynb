{
 "cells": [
  {
   "cell_type": "code",
   "execution_count": 128,
   "metadata": {},
   "outputs": [],
   "source": [
    "import numpy as np\n",
    "import pandas as pd\n",
    "import matplotlib.pyplot as plt\n",
    "import cv2\n",
    "import tensorflow as tf\n",
    "\n",
    "from tensorflow.keras.models import Sequential\n",
    "from tensorflow.keras.utils import to_categorical\n",
    "from tensorflow.keras.layers import Dense, Dropout, Flatten, Activation\n",
    "from tensorflow.keras.layers import Conv2D, MaxPooling2D\n",
    "from tensorflow.keras.losses import categorical_crossentropy\n",
    "from keras.utils.np_utils import to_categorical\n",
    "\n",
    "%matplotlib inline\n",
    "from PIL import Image\n",
    "import os, glob, random\n",
    "import random, math\n",
    "\n",
    "import numpy as np\n",
    "import optuna\n",
    "import os\n",
    "from PIL import Image\n",
    "\n",
    "from keras.models import Sequential\n",
    "from keras.layers import Dense, Dropout, Flatten, Conv2D, MaxPooling2D, BatchNormalization\n",
    "from keras.utils import np_utils\n",
    "\n",
    "import keras.backend as K"
   ]
  },
  {
   "cell_type": "code",
   "execution_count": 129,
   "metadata": {},
   "outputs": [
    {
     "name": "stdout",
     "output_type": "stream",
     "text": [
      "10\n",
      "10\n",
      "10\n",
      "10\n",
      "10\n",
      "10\n",
      "10\n",
      "10\n",
      "10\n",
      "10\n",
      "10\n",
      "10\n",
      "10\n",
      "10\n",
      "10\n",
      "10\n",
      "10\n",
      "保存しました：resistors_org_data_x_train.npz 170\n",
      "保存しました：resistors_org_data_y_train.npz 170\n"
     ]
    }
   ],
   "source": [
    "# npy, npzファイル：Numpy配列 ndarray を保存するバイナリファイル\n",
    "outfile_x_train=\"resistors_org_data_x_train.npz\"\n",
    "outfile_y_train=\"resistors_org_data_y_train.npz\"\n",
    "#保存ファイル名\n",
    "max_photo_train=10\n",
    "photo_size=60\n",
    "x_train=[]#画像データ\n",
    "y_train=[]#ラベルデータ\n",
    "#各抵抗値\n",
    "categories = [\"10\",\"22\",\"47\",\n",
    "              \"100\",\"220\",\"470\",\n",
    "              \"1k\",\n",
    "              \"2.2k\",\"4.7k\",\n",
    "              \"10k\",\"22k\",\"47k\",\n",
    "              \"100k\",\"220k\",\"470k\",\n",
    "              \"1M\",\"2.2M\"]\n",
    "\n",
    "#path以下の画像を読み込む\n",
    "def glob_files(path,label):\n",
    "    files=glob.glob(path+\"/*.JPG\")\n",
    "    random.shuffle(files)\n",
    "    #各ファイルを処理\n",
    "    num=0\n",
    "    #print(files)\n",
    "    for f in files:\n",
    "        if num >=max_photo_train:break\n",
    "        num+=1\n",
    "        #画像ファイルを読む\n",
    "        img=cv2.imread(f)\n",
    "        img=cv2.resize(img, (photo_size_train,photo_size_train ))\n",
    "        img=cv2.cvtColor(img,cv2.COLOR_BGR2RGB)\n",
    "        img=np.asarray(img)\n",
    "        x_train.append(img)\n",
    "        y_train.append(label)\n",
    "        \n",
    "    print(num)\n",
    "    \n",
    "def main():\n",
    "    for cat, label in zip(categories, range(len(categories))):\n",
    "        #各画像のフォルダーを読む(./は現在のフォルダ)\n",
    "        glob_files(\"./resistors/\" + cat, label)\n",
    "    \n",
    "    #x(学習データ),y(ラベル)の対応は維持したままシャッフル\n",
    "    for l in [x_train, y_train]:\n",
    "        np.random.seed(1)\n",
    "        np.random.shuffle(l) \n",
    "    \n",
    "    #ファイルへ保存\n",
    "    np.savez(outfile_x_train, x=x_train)\n",
    "    np.savez(outfile_y_train, y=y_train)#xとyがnumpyのリストとして与えられる\n",
    "    print(\"保存しました：\"+outfile_x_train,len(x_train))\n",
    "    print(\"保存しました：\"+outfile_y_train,len(x_train))\n",
    "    \n",
    "# コマンドラインでファイルを指定して起動された場合は True で実行される\n",
    "# importでインポートされた場合は False で実行されない\n",
    "if __name__==\"__main__\":\n",
    "    main()"
   ]
  },
  {
   "cell_type": "code",
   "execution_count": 130,
   "metadata": {},
   "outputs": [
    {
     "name": "stdout",
     "output_type": "stream",
     "text": [
      "5\n",
      "5\n",
      "5\n",
      "5\n",
      "5\n",
      "5\n",
      "5\n",
      "5\n",
      "5\n",
      "5\n",
      "5\n",
      "5\n",
      "5\n",
      "5\n",
      "5\n",
      "5\n",
      "5\n",
      "保存しました：resistors_org_data_x_test.npz 85\n",
      "保存しました：resistors_org_data_y_test.npz 85\n"
     ]
    }
   ],
   "source": [
    "# npy, npzファイル：Numpy配列 ndarray を保存するバイナリファイル\n",
    "outfile_x_test=\"resistors_org_data_x_test.npz\"\n",
    "outfile_y_test=\"resistors_org_data_y_test.npz\"#保存ファイル名\n",
    "max_photo_test=5\n",
    "photo_size=60\n",
    "x_test=[]#画像データ\n",
    "y_test=[]#ラベルデータ\n",
    "#各抵抗値\n",
    "categories = [\"10\",\"22\",\"47\",\n",
    "              \"100\",\"220\",\"470\",\n",
    "              \"1k\",\n",
    "              \"2.2k\",\"4.7k\",\n",
    "              \"10k\",\"22k\",\"47k\",\n",
    "              \"100k\",\"220k\",\"470k\",\n",
    "              \"1M\",\"2.2M\"]\n",
    "\n",
    "#path以下の画像を読み込む\n",
    "def glob_files(path,label):\n",
    "    files=glob.glob(path+\"/*.JPG\")\n",
    "    random.shuffle(files)\n",
    "    #各ファイルを処理\n",
    "    num=0\n",
    "    #print(files)\n",
    "    for f in files:\n",
    "        if num >=max_photo_test:break\n",
    "        num+=1\n",
    "        #画像ファイルを読む\n",
    "        img=cv2.imread(f)\n",
    "        img=cv2.resize(img, (photo_size_test,photo_size_test ))\n",
    "        img=cv2.cvtColor(img,cv2.COLOR_BGR2RGB)\n",
    "        img=np.asarray(img)\n",
    "        x_test.append(img)\n",
    "        y_test.append(label)\n",
    "        \n",
    "    print(num)\n",
    "    \n",
    "def main():\n",
    "    for cat, label in zip(categories, range(len(categories))):\n",
    "        #各画像のフォルダーを読む(./は現在のフォルダ)\n",
    "        glob_files(\"./resistors_test/\" + cat, label)\n",
    "    \n",
    "    #x(学習データ),y(ラベル)の対応は維持したままシャッフル\n",
    "    for l in [x_test, y_test]:\n",
    "        np.random.seed(1)\n",
    "        np.random.shuffle(l) \n",
    "    \n",
    "    #ファイルへ保存\n",
    "    np.savez(outfile_x_test, x=x_test)\n",
    "    np.savez(outfile_y_test, y=y_test)#xとyがnumpyのリストとして与えられる\n",
    "    print(\"保存しました：\"+outfile_x_test,len(x_test))\n",
    "    print(\"保存しました：\"+outfile_y_test,len(y_test))\n",
    "    \n",
    "# コマンドラインでファイルを指定して起動された場合は True で実行される\n",
    "# importでインポートされた場合は False で実行されない\n",
    "if __name__==\"__main__\":\n",
    "    main()"
   ]
  },
  {
   "cell_type": "code",
   "execution_count": 131,
   "metadata": {},
   "outputs": [
    {
     "name": "stdout",
     "output_type": "stream",
     "text": [
      "1\n"
     ]
    },
    {
     "data": {
      "image/png": "[encoded data removed]",
      "text/plain": [
       "<Figure size 432x288 with 1 Axes>"
      ]
     },
     "metadata": {
      "needs_background": "light"
     },
     "output_type": "display_data"
    },
    {
     "name": "stdout",
     "output_type": "stream",
     "text": [
      "5\n"
     ]
    },
    {
     "data": {
      "image/png": "[encoded data removed]",
      "text/plain": [
       "<Figure size 432x288 with 1 Axes>"
      ]
     },
     "metadata": {
      "needs_background": "light"
     },
     "output_type": "display_data"
    }
   ],
   "source": [
    "plt.imshow(x_train[2])\n",
    "print(y_train[2])\n",
    "plt.show()\n",
    "plt.imshow(x_test[2])\n",
    "print(y_test[2])\n",
    "plt.show()"
   ]
  },
  {
   "cell_type": "code",
   "execution_count": 132,
   "metadata": {},
   "outputs": [],
   "source": [
    "from keras.preprocessing.image import ImageDataGenerator, array_to_img, img_to_array, load_img\n",
    "\n",
    "# ImageDataGeneratorクラスのオブジェクト生成\n",
    "datagen = ImageDataGenerator(\n",
    "        rotation_range=45,\n",
    "        vertical_flip=True,\n",
    "        horizontal_flip=True,\n",
    "        shear_range=3,#\n",
    "        brightness_range=[0.3, 1.0])#明暗\n",
    "#validation_splitでvalidationデータとtrainデータに分ける必要はないのか？いらない気がしてきた\n",
    "\n",
    "def images_gen(x_list,y_list):\n",
    "    x_list_add=[]\n",
    "    y_list_add=[]\n",
    "    for x ,y in zip(x_list,y_list):#xは(3, 150, 150)で受け取る\n",
    "        x = x.reshape((1,) + x.shape)  #(1, 3, 150, 150)に変換する\n",
    "\n",
    "        batch_list=[]\n",
    "        i = 0\n",
    "        \n",
    "        # flowメソッド：numpyデータとラベルの配列を受け取り、拡張/正規化したデータのバッチを生成\n",
    "        for batch in datagen.flow(x, batch_size=1):\n",
    "            batch=batch.astype(np.uint8)#データ型を揃える\n",
    "            batch=batch.reshape((photo_size, photo_size, 3))\n",
    "            x_list_add.append(batch)\n",
    "            y_list_add.append(y)\n",
    "            i += 1\n",
    "            if i > 5:#１枚から40枚作る(計13600=20*17*40)#\n",
    "                break             \n",
    "    x_np_add=np.array(x_list_add)\n",
    "    y_np_add=np.array(y_list_add)\n",
    "\n",
    "    #x(学習データ),y(ラベル)の対応は維持したままシャッフル\n",
    "    for l in [x_np_add, y_np_add]:\n",
    "        np.random.seed(1)\n",
    "        np.random.shuffle(l) \n",
    "\n",
    "    return x_np_add,y_np_add"
   ]
  },
  {
   "cell_type": "code",
   "execution_count": 133,
   "metadata": {},
   "outputs": [],
   "source": [
    "#入力と出力を指定\n",
    "im_rows=photo_size_train\n",
    "im_cols=photo_size_train\n",
    "im_color=3\n",
    "in_shape=(im_rows,im_cols,im_color)\n",
    "nb_classes=17"
   ]
  },
  {
   "cell_type": "code",
   "execution_count": 134,
   "metadata": {},
   "outputs": [
    {
     "name": "stdout",
     "output_type": "stream",
     "text": [
      "<class 'numpy.lib.npyio.NpzFile'>\n",
      "<class 'numpy.ndarray'>\n"
     ]
    }
   ],
   "source": [
    "#写真データを読み込み\n",
    "\n",
    "photos_x_train=np.load(outfile_x_train)\n",
    "print(type(photos_x_train))\n",
    "x_train=photos_x_train[\"x\"]\n",
    "print(type(x_train))\n",
    "photos_y_train=np.load(outfile_y_train)\n",
    "y_train=photos_y_train[\"y\"]\n",
    "\n",
    "photos_x_test=np.load(outfile_x_test)\n",
    "x_test=photos_x_test[\"x\"]\n",
    "\n",
    "photos_y_test=np.load(outfile_y_test)\n",
    "y_test=photos_y_test[\"y\"]"
   ]
  },
  {
   "cell_type": "code",
   "execution_count": 135,
   "metadata": {},
   "outputs": [],
   "source": [
    "#読み込んだデータを三次元配列に変換\n",
    "x_train=x_train.reshape(-1,im_rows,im_cols,im_color)\n",
    "x_test=x_test.reshape(-1,im_rows,im_cols,im_color)"
   ]
  },
  {
   "cell_type": "code",
   "execution_count": 136,
   "metadata": {},
   "outputs": [
    {
     "name": "stdout",
     "output_type": "stream",
     "text": [
      "(170, 60, 60, 3)\n",
      "(170,)\n",
      "(85, 60, 60, 3)\n",
      "(85,)\n"
     ]
    }
   ],
   "source": [
    "print(x_train.shape)\n",
    "print(y_train.shape)\n",
    "\n",
    "print(x_test.shape)\n",
    "print(y_test.shape)"
   ]
  },
  {
   "cell_type": "code",
   "execution_count": 137,
   "metadata": {},
   "outputs": [
    {
     "name": "stdout",
     "output_type": "stream",
     "text": [
      "保存しました：resistors_add1700_data_train.npz 1020\n",
      "保存しました：resistors_add1700_data_test.npz 510\n"
     ]
    }
   ],
   "source": [
    "#水増し\n",
    "x_add_train,y_add_train=images_gen(x_train,y_train)\n",
    "\n",
    "outfile_add_train=\"resistors_add1700_data_train.npz\"#保存ファイル名\n",
    "\n",
    "#ファイルへ保存\n",
    "np.savez(outfile_add_train, x=x_add_train, y=y_add_train)\n",
    "print(\"保存しました：\"+outfile_add_train,len(x_add_train))\n",
    "\n",
    "x_add_test,y_add_test=images_gen(x_test, y_test)\n",
    "\n",
    "outfile_add_test=\"resistors_add1700_data_test.npz\"#保存ファイル名\n",
    "\n",
    "#ファイルへ保存\n",
    "np.savez(outfile_add_test, x=x_add_test, y=y_add_test)\n",
    "print(\"保存しました：\"+outfile_add_test,len(x_add_test))"
   ]
  },
  {
   "cell_type": "code",
   "execution_count": 138,
   "metadata": {},
   "outputs": [
    {
     "data": {
      "image/png": "[encoded data removed]",
      "text/plain": [
       "<Figure size 432x288 with 1 Axes>"
      ]
     },
     "metadata": {
      "needs_background": "light"
     },
     "output_type": "display_data"
    },
    {
     "name": "stdout",
     "output_type": "stream",
     "text": [
      "7\n"
     ]
    },
    {
     "data": {
      "image/png": "[encoded data removed]",
      "text/plain": [
       "<Figure size 432x288 with 1 Axes>"
      ]
     },
     "metadata": {
      "needs_background": "light"
     },
     "output_type": "display_data"
    },
    {
     "name": "stdout",
     "output_type": "stream",
     "text": [
      "12\n"
     ]
    }
   ],
   "source": [
    "n = 50\n",
    "plt.imshow(x_add_train[n])\n",
    "plt.show()\n",
    "print(y_add_train[n])\n",
    "\n",
    "n= 50\n",
    "plt.imshow(x_add_test[n])\n",
    "plt.show()\n",
    "print(y_add_test[n])"
   ]
  },
  {
   "cell_type": "code",
   "execution_count": 139,
   "metadata": {},
   "outputs": [
    {
     "name": "stdout",
     "output_type": "stream",
     "text": [
      "12\n"
     ]
    },
    {
     "data": {
      "image/png": "[encoded data removed]",
      "text/plain": [
       "<Figure size 432x288 with 1 Axes>"
      ]
     },
     "metadata": {
      "needs_background": "light"
     },
     "output_type": "display_data"
    }
   ],
   "source": [
    "n = 50\n",
    "plt.imshow(x_add_test[n])\n",
    "print(y_add_test[n])"
   ]
  },
  {
   "cell_type": "code",
   "execution_count": 140,
   "metadata": {},
   "outputs": [],
   "source": [
    "import keras\n",
    "from keras.models import  Sequential\n",
    "from keras.layers import Dense,Dropout,Flatten\n",
    "from keras.layers import Conv2D,MaxPooling2D\n",
    "from keras.optimizers import  RMSprop\n",
    "\n",
    "#cnnのモデルを定義する\n",
    "\n",
    "def def_model(in_shape,nb_classes):\n",
    "    model=Sequential()\n",
    "    model.add(Conv2D(32,\n",
    "                    kernel_size=(3,3),\n",
    "                    activation=\"relu\",\n",
    "                    input_shape=in_shape))\n",
    "    model.add(Conv2D(32,(3,3),activation=\"relu\"))\n",
    "    model.add(MaxPooling2D(pool_size=(2,2)))\n",
    "    model.add(Dropout(0.25))\n",
    "    \n",
    "    model.add(Conv2D(64,(3,3),activation=\"relu\"))\n",
    "    model.add(Conv2D(64,(3,3),activation=\"relu\",name=\"relu_conv2\"))\n",
    "   #最後の畳み込み層の名称を後ほど使うので定義しておく。\n",
    "    model.add(MaxPooling2D(pool_size=(2,2)))\n",
    "    model.add(Dropout(0.25))\n",
    "\n",
    "    model.add(Flatten())\n",
    "    model.add(Dense(512,activation=\"relu\"))\n",
    "    model.add(Dropout(0.5))\n",
    "    model.add(Dense(nb_classes,activation=\"softmax\"))\n",
    "    \n",
    "    return model\n",
    "\n",
    "#コンパイル済みのcnnのモデルを返す\n",
    "\n",
    "def get_model(in_shape,nb_classes):\n",
    "    model=def_model(in_shape,nb_classes)\n",
    "    model.compile(\n",
    "        loss=\"categorical_crossentropy\",\n",
    "        optimizer=RMSprop(),\n",
    "        metrics=[\"accuracy\"])\n",
    "    return model"
   ]
  },
  {
   "cell_type": "code",
   "execution_count": 141,
   "metadata": {
    "scrolled": true
   },
   "outputs": [
    {
     "name": "stdout",
     "output_type": "stream",
     "text": [
      "Train on 1020 samples, validate on 510 samples\n",
      "Epoch 1/20\n",
      "1020/1020 [==============================] - ETA: 4s - loss: 2.8417 - accuracy: 0.04 - 9s 8ms/step - loss: 3.0718 - accuracy: 0.0539 - val_loss: 2.8333 - val_accuracy: 0.0667\n",
      "Epoch 2/20\n",
      "1020/1020 [==============================] - ETA: 2s - loss: 2.8369 - accuracy: 0.05 - 7s 7ms/step - loss: 2.8353 - accuracy: 0.0461 - val_loss: 2.8332 - val_accuracy: 0.0549\n",
      "Epoch 3/20\n",
      "1020/1020 [==============================] - ETA: 2s - loss: 2.8330 - accuracy: 0.08 - 7s 7ms/step - loss: 2.8336 - accuracy: 0.0706 - val_loss: 2.8332 - val_accuracy: 0.0588\n",
      "Epoch 4/20\n",
      "1020/1020 [==============================] - ETA: 3s - loss: 2.8332 - accuracy: 0.06 - 7s 7ms/step - loss: 2.8331 - accuracy: 0.0627 - val_loss: 2.8329 - val_accuracy: 0.0745\n",
      "Epoch 5/20\n",
      "1020/1020 [==============================] - ETA: 2s - loss: 2.8327 - accuracy: 0.08 - 7s 7ms/step - loss: 2.8340 - accuracy: 0.0657 - val_loss: 2.8331 - val_accuracy: 0.0647\n",
      "Epoch 6/20\n",
      "1020/1020 [==============================] - ETA: 3s - loss: 2.8322 - accuracy: 0.07 - 8s 8ms/step - loss: 2.8327 - accuracy: 0.0627 - val_loss: 2.8330 - val_accuracy: 0.0588\n",
      "Epoch 7/20\n",
      "1020/1020 [==============================] - ETA: 2s - loss: 2.8319 - accuracy: 0.08 - 7s 7ms/step - loss: 2.8340 - accuracy: 0.0598 - val_loss: 2.8328 - val_accuracy: 0.0569\n",
      "Epoch 8/20\n",
      "1020/1020 [==============================] - ETA: 3s - loss: 2.8317 - accuracy: 0.06 - 8s 8ms/step - loss: 2.8318 - accuracy: 0.0637 - val_loss: 2.8320 - val_accuracy: 0.0588\n",
      "Epoch 9/20\n",
      "1020/1020 [==============================] - ETA: 4s - loss: 2.8313 - accuracy: 0.06 - 8s 8ms/step - loss: 2.8315 - accuracy: 0.0588 - val_loss: 2.8316 - val_accuracy: 0.0667\n",
      "Epoch 10/20\n",
      "1020/1020 [==============================] - ETA: 3s - loss: 2.8296 - accuracy: 0.06 - 8s 8ms/step - loss: 2.8321 - accuracy: 0.0667 - val_loss: 2.8325 - val_accuracy: 0.0627\n",
      "Epoch 11/20\n",
      "1020/1020 [==============================] - ETA: 3s - loss: 2.8320 - accuracy: 0.05 - 9s 8ms/step - loss: 2.8310 - accuracy: 0.0657 - val_loss: 2.8314 - val_accuracy: 0.0588\n",
      "Epoch 12/20\n",
      "1020/1020 [==============================] - ETA: 3s - loss: 2.8294 - accuracy: 0.06 - 8s 8ms/step - loss: 2.8305 - accuracy: 0.0647 - val_loss: 2.8311 - val_accuracy: 0.0745\n",
      "Epoch 13/20\n",
      "1020/1020 [==============================] - ETA: 3s - loss: 2.8275 - accuracy: 0.08 - 9s 8ms/step - loss: 2.8259 - accuracy: 0.0833 - val_loss: 2.8287 - val_accuracy: 0.0686\n",
      "Epoch 14/20\n",
      "1020/1020 [==============================] - ETA: 3s - loss: 2.8174 - accuracy: 0.09 - 9s 9ms/step - loss: 2.8291 - accuracy: 0.0735 - val_loss: 2.8560 - val_accuracy: 0.0745\n",
      "Epoch 15/20\n",
      "1020/1020 [==============================] - ETA: 3s - loss: 2.8604 - accuracy: 0.04 - 7s 7ms/step - loss: 2.8465 - accuracy: 0.0549 - val_loss: 2.8315 - val_accuracy: 0.0725\n",
      "Epoch 16/20\n",
      "1020/1020 [==============================] - ETA: 3s - loss: 2.8258 - accuracy: 0.09 - 8s 8ms/step - loss: 2.8260 - accuracy: 0.0853 - val_loss: 2.8288 - val_accuracy: 0.0725\n",
      "Epoch 17/20\n",
      "1020/1020 [==============================] - ETA: 3s - loss: 2.8139 - accuracy: 0.10 - 8s 8ms/step - loss: 2.8326 - accuracy: 0.0784 - val_loss: 2.8384 - val_accuracy: 0.0314\n",
      "Epoch 18/20\n",
      "1020/1020 [==============================] - ETA: 3s - loss: 2.8394 - accuracy: 0.07 - 8s 8ms/step - loss: 2.8353 - accuracy: 0.0657 - val_loss: 2.8306 - val_accuracy: 0.0471\n",
      "Epoch 19/20\n",
      "1020/1020 [==============================] - ETA: 3s - loss: 2.8198 - accuracy: 0.09 - 9s 9ms/step - loss: 2.8183 - accuracy: 0.0843 - val_loss: 2.8293 - val_accuracy: 0.0588\n",
      "Epoch 20/20\n",
      "1020/1020 [==============================] - ETA: 3s - loss: 2.7984 - accuracy: 0.08 - 7s 7ms/step - loss: 2.7955 - accuracy: 0.0931 - val_loss: 2.8349 - val_accuracy: 0.0588\n",
      "510/510 [==============================] - ETA:  - ETA:  - ETA:  - ETA:  - ETA:  - ETA:  - ETA:  - ETA:  - ETA:  - ETA:  - ETA:  - ETA:  - ETA:  - ETA:  - ETA:  - 1s 2ms/step\n",
      "正解率= 0.05882352963089943 loss= 2.834864539726108\n"
     ]
    },
    {
     "data": {
      "image/png": "[encoded data removed]",
      "text/plain": [
       "<Figure size 432x288 with 1 Axes>"
      ]
     },
     "metadata": {
      "needs_background": "light"
     },
     "output_type": "display_data"
    },
    {
     "data": {
      "image/png": "[encoded data removed]",
      "text/plain": [
       "<Figure size 432x288 with 1 Axes>"
      ]
     },
     "metadata": {
      "needs_background": "light"
     },
     "output_type": "display_data"
    }
   ],
   "source": [
    "from sklearn.model_selection import train_test_split\n",
    "\n",
    "#写真データを読み込み\n",
    "photos_train=np.load(\"./resistors_add1700_data_train.npz\")\n",
    "x_train=photos_train[\"x\"]\n",
    "y_train=photos_train[\"y\"]\n",
    "\n",
    "photos_test=np.load(\"./resistors_add1700_data_test.npz\")\n",
    "x_test=photos_test[\"x\"]\n",
    "y_test=photos_test[\"y\"]\n",
    "\n",
    "\n",
    "#読み込んだデータを三次元配列に変換\n",
    "x_train=x_train.reshape(-1,im_rows,im_cols,im_color)\n",
    "x_train=x_train.astype(\"float32\")/255\n",
    "\n",
    "x_test=x_test.reshape(-1,im_rows,im_cols,im_color)\n",
    "x_test=x_test.astype(\"float32\")/255\n",
    "#ラベルデータをone-hotベクトルに直す\n",
    "y_train=to_categorical(y_train.astype(\"int32\"),nb_classes)\n",
    "\n",
    "y_test=to_categorical(y_test.astype(\"int32\"),nb_classes)\n",
    "#学習用とテスト用に分ける\n",
    "#x_train,x_test,y_train,y_test=train_test_split(x,y,train_size=0.8)\n",
    "#cnnモデルを取得\n",
    "model=get_model(in_shape,nb_classes)\n",
    "\n",
    "#学習を実行\n",
    "hist=model.fit(x_train,y_train,\n",
    "              batch_size=512,\n",
    "              epochs=20,\n",
    "              verbose=1,\n",
    "              validation_data=(x_test,y_test))\n",
    "\n",
    "#モデルを評価\n",
    "score=model.evaluate(x_test,y_test,verbose=1)\n",
    "print(\"正解率=\",score[1],\"loss=\",score[0])\n",
    "\n",
    "#学習の様子をグラフへ描写\n",
    "#正解率の推移をプロット\n",
    "plt.plot(hist.history[\"accuracy\"])\n",
    "plt.plot(hist.history[\"val_accuracy\"])\n",
    "plt.title(\"Accuracy\")\n",
    "plt.legend([\"train\",\"test\"],loc=\"upper left\")\n",
    "plt.show()\n",
    "\n",
    "#ロスの推移をプロット\n",
    "plt.plot(hist.history[\"loss\"])\n",
    "plt.plot(hist.history[\"val_loss\"])\n",
    "plt.title(\"Loss\")\n",
    "plt.legend([\"train\",\"test\"],loc=\"upper left\")\n",
    "plt.show()\n",
    "\n",
    "model.save_weights(\"./batch_512_photo_size=60_batch_size=32_epochs=23_per_.hdf5\")"
   ]
  },
  {
   "cell_type": "code",
   "execution_count": null,
   "metadata": {},
   "outputs": [],
   "source": []
  },
  {
   "cell_type": "code",
   "execution_count": 142,
   "metadata": {},
   "outputs": [
    {
     "data": {
      "text/plain": [
       "170000"
      ]
     },
     "execution_count": 142,
     "metadata": {},
     "output_type": "execute_result"
    }
   ],
   "source": [
    "10 * 17 * 1000"
   ]
  },
  {
   "cell_type": "code",
   "execution_count": 143,
   "metadata": {},
   "outputs": [
    {
     "ename": "OSError",
     "evalue": "Unable to open file (unable to open file: name = './resistors-model_RMSprop.hdf5', errno = 2, error message = 'No such file or directory', flags = 0, o_flags = 0)",
     "output_type": "error",
     "traceback": [
      "\u001b[0;31m---------------------------------------------------------------------------\u001b[0m",
      "\u001b[0;31mOSError\u001b[0m                                   Traceback (most recent call last)",
      "\u001b[0;32m<ipython-input-143-eb8da5b1f3bf>\u001b[0m in \u001b[0;36m<module>\u001b[0;34m\u001b[0m\n\u001b[1;32m     21\u001b[0m \u001b[0;34m\u001b[0m\u001b[0m\n\u001b[1;32m     22\u001b[0m \u001b[0mmodel\u001b[0m\u001b[0;34m=\u001b[0m \u001b[0mget_model\u001b[0m\u001b[0;34m(\u001b[0m\u001b[0;34m(\u001b[0m\u001b[0mphoto_size\u001b[0m\u001b[0;34m,\u001b[0m\u001b[0mphoto_size\u001b[0m\u001b[0;34m,\u001b[0m\u001b[0;36m3\u001b[0m\u001b[0;34m)\u001b[0m\u001b[0;34m,\u001b[0m\u001b[0;36m17\u001b[0m\u001b[0;34m)\u001b[0m\u001b[0;31m#画像のshape、ラベルデータの数\u001b[0m\u001b[0;34m\u001b[0m\u001b[0;34m\u001b[0m\u001b[0m\n\u001b[0;32m---> 23\u001b[0;31m \u001b[0mmodel\u001b[0m\u001b[0;34m.\u001b[0m\u001b[0mload_weights\u001b[0m\u001b[0;34m(\u001b[0m\u001b[0;34m\"./resistors-model_RMSprop.hdf5\"\u001b[0m\u001b[0;34m)\u001b[0m\u001b[0;34m\u001b[0m\u001b[0;34m\u001b[0m\u001b[0m\n\u001b[0m\u001b[1;32m     24\u001b[0m \u001b[0;34m\u001b[0m\u001b[0m\n\u001b[1;32m     25\u001b[0m \u001b[0mimg\u001b[0m\u001b[0;34m=\u001b[0m\u001b[0mcv2\u001b[0m\u001b[0;34m.\u001b[0m\u001b[0mimread\u001b[0m\u001b[0;34m(\u001b[0m\u001b[0mphoto\u001b[0m\u001b[0;34m)\u001b[0m\u001b[0;34m\u001b[0m\u001b[0;34m\u001b[0m\u001b[0m\n",
      "\u001b[0;32m~/anaconda3/lib/python3.7/site-packages/keras/engine/saving.py\u001b[0m in \u001b[0;36mload_wrapper\u001b[0;34m(*args, **kwargs)\u001b[0m\n\u001b[1;32m    490\u001b[0m                 \u001b[0mos\u001b[0m\u001b[0;34m.\u001b[0m\u001b[0mremove\u001b[0m\u001b[0;34m(\u001b[0m\u001b[0mtmp_filepath\u001b[0m\u001b[0;34m)\u001b[0m\u001b[0;34m\u001b[0m\u001b[0;34m\u001b[0m\u001b[0m\n\u001b[1;32m    491\u001b[0m             \u001b[0;32mreturn\u001b[0m \u001b[0mres\u001b[0m\u001b[0;34m\u001b[0m\u001b[0;34m\u001b[0m\u001b[0m\n\u001b[0;32m--> 492\u001b[0;31m         \u001b[0;32mreturn\u001b[0m \u001b[0mload_function\u001b[0m\u001b[0;34m(\u001b[0m\u001b[0;34m*\u001b[0m\u001b[0margs\u001b[0m\u001b[0;34m,\u001b[0m \u001b[0;34m**\u001b[0m\u001b[0mkwargs\u001b[0m\u001b[0;34m)\u001b[0m\u001b[0;34m\u001b[0m\u001b[0;34m\u001b[0m\u001b[0m\n\u001b[0m\u001b[1;32m    493\u001b[0m \u001b[0;34m\u001b[0m\u001b[0m\n\u001b[1;32m    494\u001b[0m     \u001b[0;32mreturn\u001b[0m \u001b[0mload_wrapper\u001b[0m\u001b[0;34m\u001b[0m\u001b[0;34m\u001b[0m\u001b[0m\n",
      "\u001b[0;32m~/anaconda3/lib/python3.7/site-packages/keras/engine/network.py\u001b[0m in \u001b[0;36mload_weights\u001b[0;34m(self, filepath, by_name, skip_mismatch, reshape)\u001b[0m\n\u001b[1;32m   1219\u001b[0m         \u001b[0;32mif\u001b[0m \u001b[0mh5py\u001b[0m \u001b[0;32mis\u001b[0m \u001b[0;32mNone\u001b[0m\u001b[0;34m:\u001b[0m\u001b[0;34m\u001b[0m\u001b[0;34m\u001b[0m\u001b[0m\n\u001b[1;32m   1220\u001b[0m             \u001b[0;32mraise\u001b[0m \u001b[0mImportError\u001b[0m\u001b[0;34m(\u001b[0m\u001b[0;34m'`load_weights` requires h5py.'\u001b[0m\u001b[0;34m)\u001b[0m\u001b[0;34m\u001b[0m\u001b[0;34m\u001b[0m\u001b[0m\n\u001b[0;32m-> 1221\u001b[0;31m         \u001b[0;32mwith\u001b[0m \u001b[0mh5py\u001b[0m\u001b[0;34m.\u001b[0m\u001b[0mFile\u001b[0m\u001b[0;34m(\u001b[0m\u001b[0mfilepath\u001b[0m\u001b[0;34m,\u001b[0m \u001b[0mmode\u001b[0m\u001b[0;34m=\u001b[0m\u001b[0;34m'r'\u001b[0m\u001b[0;34m)\u001b[0m \u001b[0;32mas\u001b[0m \u001b[0mf\u001b[0m\u001b[0;34m:\u001b[0m\u001b[0;34m\u001b[0m\u001b[0;34m\u001b[0m\u001b[0m\n\u001b[0m\u001b[1;32m   1222\u001b[0m             \u001b[0;32mif\u001b[0m \u001b[0;34m'layer_names'\u001b[0m \u001b[0;32mnot\u001b[0m \u001b[0;32min\u001b[0m \u001b[0mf\u001b[0m\u001b[0;34m.\u001b[0m\u001b[0mattrs\u001b[0m \u001b[0;32mand\u001b[0m \u001b[0;34m'model_weights'\u001b[0m \u001b[0;32min\u001b[0m \u001b[0mf\u001b[0m\u001b[0;34m:\u001b[0m\u001b[0;34m\u001b[0m\u001b[0;34m\u001b[0m\u001b[0m\n\u001b[1;32m   1223\u001b[0m                 \u001b[0mf\u001b[0m \u001b[0;34m=\u001b[0m \u001b[0mf\u001b[0m\u001b[0;34m[\u001b[0m\u001b[0;34m'model_weights'\u001b[0m\u001b[0;34m]\u001b[0m\u001b[0;34m\u001b[0m\u001b[0;34m\u001b[0m\u001b[0m\n",
      "\u001b[0;32m~/anaconda3/lib/python3.7/site-packages/h5py/_hl/files.py\u001b[0m in \u001b[0;36m__init__\u001b[0;34m(self, name, mode, driver, libver, userblock_size, swmr, rdcc_nslots, rdcc_nbytes, rdcc_w0, track_order, **kwds)\u001b[0m\n\u001b[1;32m    392\u001b[0m                 fid = make_fid(name, mode, userblock_size,\n\u001b[1;32m    393\u001b[0m                                \u001b[0mfapl\u001b[0m\u001b[0;34m,\u001b[0m \u001b[0mfcpl\u001b[0m\u001b[0;34m=\u001b[0m\u001b[0mmake_fcpl\u001b[0m\u001b[0;34m(\u001b[0m\u001b[0mtrack_order\u001b[0m\u001b[0;34m=\u001b[0m\u001b[0mtrack_order\u001b[0m\u001b[0;34m)\u001b[0m\u001b[0;34m,\u001b[0m\u001b[0;34m\u001b[0m\u001b[0;34m\u001b[0m\u001b[0m\n\u001b[0;32m--> 394\u001b[0;31m                                swmr=swmr)\n\u001b[0m\u001b[1;32m    395\u001b[0m \u001b[0;34m\u001b[0m\u001b[0m\n\u001b[1;32m    396\u001b[0m             \u001b[0;32mif\u001b[0m \u001b[0mswmr_support\u001b[0m\u001b[0;34m:\u001b[0m\u001b[0;34m\u001b[0m\u001b[0;34m\u001b[0m\u001b[0m\n",
      "\u001b[0;32m~/anaconda3/lib/python3.7/site-packages/h5py/_hl/files.py\u001b[0m in \u001b[0;36mmake_fid\u001b[0;34m(name, mode, userblock_size, fapl, fcpl, swmr)\u001b[0m\n\u001b[1;32m    168\u001b[0m         \u001b[0;32mif\u001b[0m \u001b[0mswmr\u001b[0m \u001b[0;32mand\u001b[0m \u001b[0mswmr_support\u001b[0m\u001b[0;34m:\u001b[0m\u001b[0;34m\u001b[0m\u001b[0;34m\u001b[0m\u001b[0m\n\u001b[1;32m    169\u001b[0m             \u001b[0mflags\u001b[0m \u001b[0;34m|=\u001b[0m \u001b[0mh5f\u001b[0m\u001b[0;34m.\u001b[0m\u001b[0mACC_SWMR_READ\u001b[0m\u001b[0;34m\u001b[0m\u001b[0;34m\u001b[0m\u001b[0m\n\u001b[0;32m--> 170\u001b[0;31m         \u001b[0mfid\u001b[0m \u001b[0;34m=\u001b[0m \u001b[0mh5f\u001b[0m\u001b[0;34m.\u001b[0m\u001b[0mopen\u001b[0m\u001b[0;34m(\u001b[0m\u001b[0mname\u001b[0m\u001b[0;34m,\u001b[0m \u001b[0mflags\u001b[0m\u001b[0;34m,\u001b[0m \u001b[0mfapl\u001b[0m\u001b[0;34m=\u001b[0m\u001b[0mfapl\u001b[0m\u001b[0;34m)\u001b[0m\u001b[0;34m\u001b[0m\u001b[0;34m\u001b[0m\u001b[0m\n\u001b[0m\u001b[1;32m    171\u001b[0m     \u001b[0;32melif\u001b[0m \u001b[0mmode\u001b[0m \u001b[0;34m==\u001b[0m \u001b[0;34m'r+'\u001b[0m\u001b[0;34m:\u001b[0m\u001b[0;34m\u001b[0m\u001b[0;34m\u001b[0m\u001b[0m\n\u001b[1;32m    172\u001b[0m         \u001b[0mfid\u001b[0m \u001b[0;34m=\u001b[0m \u001b[0mh5f\u001b[0m\u001b[0;34m.\u001b[0m\u001b[0mopen\u001b[0m\u001b[0;34m(\u001b[0m\u001b[0mname\u001b[0m\u001b[0;34m,\u001b[0m \u001b[0mh5f\u001b[0m\u001b[0;34m.\u001b[0m\u001b[0mACC_RDWR\u001b[0m\u001b[0;34m,\u001b[0m \u001b[0mfapl\u001b[0m\u001b[0;34m=\u001b[0m\u001b[0mfapl\u001b[0m\u001b[0;34m)\u001b[0m\u001b[0;34m\u001b[0m\u001b[0;34m\u001b[0m\u001b[0m\n",
      "\u001b[0;32mh5py/_objects.pyx\u001b[0m in \u001b[0;36mh5py._objects.with_phil.wrapper\u001b[0;34m()\u001b[0m\n",
      "\u001b[0;32mh5py/_objects.pyx\u001b[0m in \u001b[0;36mh5py._objects.with_phil.wrapper\u001b[0;34m()\u001b[0m\n",
      "\u001b[0;32mh5py/h5f.pyx\u001b[0m in \u001b[0;36mh5py.h5f.open\u001b[0;34m()\u001b[0m\n",
      "\u001b[0;31mOSError\u001b[0m: Unable to open file (unable to open file: name = './resistors-model_RMSprop.hdf5', errno = 2, error message = 'No such file or directory', flags = 0, o_flags = 0)"
     ]
    }
   ],
   "source": [
    "import keras\n",
    "import matplotlib.pyplot as plt\n",
    "import numpy as np\n",
    "import cv2\n",
    "\n",
    "photo=\"IMG_9349.jpg\"\n",
    "labels = [\"10\",\"22\",\"47\",\n",
    "              \"100\",\"220\",\"470\",\n",
    "              \"1k\",\"2.2k\",\"4.7k\",\n",
    "              \"10k\",\"22k\",\"47k\",\n",
    "              \"100k\",\"220k\",\"470k\",\n",
    "              \"1M\",\"2.2M\"]\n",
    "\n",
    "def get_model(in_shape,nb_classes):\n",
    "    model=def_model(in_shape,nb_classes)\n",
    "    model.compile(\n",
    "        loss=\"categorical_crossentropy\",\n",
    "        optimizer=RMSprop(),\n",
    "        metrics=[\"accuracy\"])\n",
    "    return model\n",
    "\n",
    "model= get_model((photo_size,photo_size,3),17)#画像のshape、ラベルデータの数\n",
    "model.load_weights(\"./resistors-model_RMSprop.hdf5\")\n",
    "\n",
    "img=cv2.imread(photo)\n",
    "img=cv2.resize(img, (photo_size,photo_size))#画像のshape\n",
    "img=cv2.cvtColor(img,cv2.COLOR_BGR2RGB)\n",
    "plt.imshow(img)\n",
    "plt.show()\n",
    "    #arrayに変換\n",
    "x=np.asarray(img)\n",
    "x=x.reshape(-1,photo_size,photo_size,3)#画像のshape\n",
    "x=x/255\n",
    "    #予測する！！\n",
    "pre=model.predict([x])[0]\n",
    "idx=pre.argmax()\n",
    "per=int(pre[idx]*100)\n",
    "print(\"これは\"+str(per)+\"%の確率で\"+labels[idx]+\"です！！\")"
   ]
  },
  {
   "cell_type": "code",
   "execution_count": null,
   "metadata": {},
   "outputs": [],
   "source": []
  },
  {
   "cell_type": "code",
   "execution_count": null,
   "metadata": {},
   "outputs": [],
   "source": []
  },
  {
   "cell_type": "code",
   "execution_count": null,
   "metadata": {},
   "outputs": [],
   "source": []
  }
 ],
 "metadata": {
  "kernelspec": {
   "display_name": "Python 3",
   "language": "python",
   "name": "python3"
  },
  "language_info": {
   "codemirror_mode": {
    "name": "ipython",
    "version": 3
   },
   "file_extension": ".py",
   "mimetype": "text/x-python",
   "name": "python",
   "nbconvert_exporter": "python",
   "pygments_lexer": "ipython3",
   "version": "3.7.1"
  }
 },
 "nbformat": 4,
 "nbformat_minor": 2
}
